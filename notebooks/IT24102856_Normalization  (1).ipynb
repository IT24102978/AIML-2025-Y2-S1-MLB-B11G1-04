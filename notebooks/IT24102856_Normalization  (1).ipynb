{
 "cells": [
  {
   "cell_type": "code",
   "execution_count": 2,
   "id": "6149fbc7-162a-4b4c-8175-e68fe872cac8",
   "metadata": {},
   "outputs": [],
   "source": [
    "import pandas as pd\n",
    "import numpy as np\n",
    "import matplotlib.pyplot as plt\n",
    "from sklearn.preprocessing import StandardScaler, MinMaxScaler\n",
    "import seaborn as sns\n",
    "%matplotlib inline \n",
    "sns.set(color_codes=True)"
   ]
  },
  {
   "cell_type": "code",
   "execution_count": 3,
   "id": "526e1884-5a25-4872-acbb-1c98665329fe",
   "metadata": {},
   "outputs": [],
   "source": [
    "df = pd.read_csv(\"after_outliers.CSV\")"
   ]
  },
  {
   "cell_type": "code",
   "execution_count": 4,
   "id": "fbed69b5-3a61-4f9f-88fa-30336087a571",
   "metadata": {},
   "outputs": [
    {
     "name": "stdout",
     "output_type": "stream",
     "text": [
      "Numeric columns: Index(['OP_CARRIER_FL_NUM', 'DEP_TIME', 'DEP_DELAY', 'TAXI_OUT', 'WHEELS_OFF',\n",
      "       'WHEELS_ON', 'TAXI_IN', 'ARR_TIME', 'ARR_DELAY', 'AIR_TIME', 'DISTANCE',\n",
      "       'CARRIER_DELAY', 'WEATHER_DELAY', 'NAS_DELAY', 'SECURITY_DELAY',\n",
      "       'LATE_AIRCRAFT_DELAY'],\n",
      "      dtype='object')\n"
     ]
    }
   ],
   "source": [
    "numeric_cols = df.select_dtypes(include='number').columns\n",
    "print(\"Numeric columns:\", numeric_cols)\n"
   ]
  },
  {
   "cell_type": "code",
   "execution_count": 5,
   "id": "d707267e-901c-4fb1-bd19-94bc8a739e56",
   "metadata": {},
   "outputs": [],
   "source": [
    "df_minmax = df.copy()\n",
    "df_standard = df.copy()"
   ]
  },
  {
   "cell_type": "code",
   "execution_count": 6,
   "id": "6057b551-0ba2-46d4-93ed-f9963a36717f",
   "metadata": {},
   "outputs": [],
   "source": [
    "minmax = MinMaxScaler()\n",
    "df_minmax[numeric_cols] = minmax.fit_transform(df[numeric_cols])\n"
   ]
  },
  {
   "cell_type": "code",
   "execution_count": 7,
   "id": "8cf2afb2-f496-4488-a61a-c9de999bf799",
   "metadata": {},
   "outputs": [],
   "source": [
    "standard = StandardScaler()\n",
    "df_standard[numeric_cols] = standard.fit_transform(df[numeric_cols])\n"
   ]
  },
  {
   "cell_type": "code",
   "execution_count": 9,
   "id": "90750a81-3a46-4505-b932-d719d09acd27",
   "metadata": {},
   "outputs": [],
   "source": [
    "df_minmax.to_csv(\"Normalization_MinMax.csv\", index=False)\n",
    "df_standard.to_csv(\"Normalization_Standard.csv\", index=False)\n"
   ]
  },
  {
   "cell_type": "code",
   "execution_count": 8,
   "id": "5e15890d-8a5e-4e83-9d0e-f277e6a27802",
   "metadata": {},
   "outputs": [
    {
     "name": "stdout",
     "output_type": "stream",
     "text": [
      "\n",
      "Original Data (first 5 rows):\n",
      "   OP_CARRIER_FL_NUM  DEP_TIME  DEP_DELAY  TAXI_OUT  WHEELS_OFF  WHEELS_ON  \\\n",
      "0               3280     601.0        1.0      22.0       623.0      714.0   \n",
      "1               3281    1359.0       -5.0      15.0      1414.0     1629.0   \n",
      "2               3282    1215.0       -5.0      18.0      1233.0     1323.0   \n",
      "3               3283    1521.0       -6.0      14.0      1535.0     1618.0   \n",
      "4               3284    1847.0      -15.0      18.0      1905.0     1935.0   \n",
      "\n",
      "   TAXI_IN  ARR_TIME  ARR_DELAY  AIR_TIME  DISTANCE  CARRIER_DELAY  \\\n",
      "0      8.0     722.0       -1.0      51.0     300.0            0.0   \n",
      "1      4.0    1633.0      -36.0      75.0     596.0            0.0   \n",
      "2      6.0    1329.0      -16.0      50.0     229.0            0.0   \n",
      "3      7.0    1625.0      -14.0      43.0     223.0            0.0   \n",
      "4      5.0    1940.0      -25.0      90.0     579.0            0.0   \n",
      "\n",
      "   WEATHER_DELAY  NAS_DELAY  SECURITY_DELAY  LATE_AIRCRAFT_DELAY  \n",
      "0            0.0        0.0             0.0                  0.0  \n",
      "1            0.0        0.0             0.0                  0.0  \n",
      "2            0.0        0.0             0.0                  0.0  \n",
      "3            0.0        0.0             0.0                  0.0  \n",
      "4            0.0        0.0             0.0                  0.0  \n",
      "\n",
      "After Min-Max Scaling (first 5 rows):\n",
      "   OP_CARRIER_FL_NUM  DEP_TIME  DEP_DELAY  TAXI_OUT  WHEELS_OFF  WHEELS_ON  \\\n",
      "0           0.413389  0.250104   0.506494  0.128834    0.259275   0.297207   \n",
      "1           0.413515  0.566069   0.428571  0.085890    0.588995   0.678616   \n",
      "2           0.413641  0.506044   0.428571  0.104294    0.513547   0.551063   \n",
      "3           0.413767  0.633597   0.415584  0.079755    0.639433   0.674031   \n",
      "4           0.413893  0.769487   0.298701  0.104294    0.793664   0.806169   \n",
      "\n",
      "    TAXI_IN  ARR_TIME  ARR_DELAY  AIR_TIME  DISTANCE  CARRIER_DELAY  \\\n",
      "0  0.038251  0.300542   0.554622  0.064562  0.053120            0.0   \n",
      "1  0.016393  0.680283   0.260504  0.098996  0.111572            0.0   \n",
      "2  0.027322  0.553564   0.428571  0.063128  0.039100            0.0   \n",
      "3  0.032787  0.676949   0.445378  0.053085  0.037915            0.0   \n",
      "4  0.021858  0.808253   0.352941  0.120516  0.108215            0.0   \n",
      "\n",
      "   WEATHER_DELAY  NAS_DELAY  SECURITY_DELAY  LATE_AIRCRAFT_DELAY  \n",
      "0            0.0        0.0             0.0                  0.0  \n",
      "1            0.0        0.0             0.0                  0.0  \n",
      "2            0.0        0.0             0.0                  0.0  \n",
      "3            0.0        0.0             0.0                  0.0  \n",
      "4            0.0        0.0             0.0                  0.0  \n",
      "\n",
      "After Standardization (first 5 rows):\n",
      "   OP_CARRIER_FL_NUM  DEP_TIME  DEP_DELAY  TAXI_OUT  WHEELS_OFF  WHEELS_ON  \\\n",
      "0           0.408587 -1.428358   0.122756  0.611794   -1.433201  -1.440077   \n",
      "1           0.409144  0.109522  -0.492128 -0.216169    0.170831   0.349213   \n",
      "2           0.409701 -0.182635  -0.492128  0.138672   -0.196211  -0.249173   \n",
      "3           0.410259  0.438198  -0.594609 -0.334450    0.416201   0.327702   \n",
      "4           0.410816  1.099608  -1.516937  0.138672    1.166506   0.947598   \n",
      "\n",
      "   TAXI_IN  ARR_TIME  ARR_DELAY  AIR_TIME  DISTANCE  CARRIER_DELAY  \\\n",
      "0  0.07181 -1.425006   0.347816 -0.856800 -0.841212      -0.174536   \n",
      "1 -0.64191  0.344118  -1.996221 -0.513091 -0.341918      -0.174536   \n",
      "2 -0.28505 -0.246237  -0.656771 -0.871122 -0.960975      -0.174536   \n",
      "3 -0.10662  0.328583  -0.522826 -0.971370 -0.971096      -0.174536   \n",
      "4 -0.46348  0.940299  -1.259524 -0.298273 -0.370594      -0.174536   \n",
      "\n",
      "   WEATHER_DELAY  NAS_DELAY  SECURITY_DELAY  LATE_AIRCRAFT_DELAY  \n",
      "0      -0.049867  -0.221056        -0.01634            -0.173138  \n",
      "1      -0.049867  -0.221056        -0.01634            -0.173138  \n",
      "2      -0.049867  -0.221056        -0.01634            -0.173138  \n",
      "3      -0.049867  -0.221056        -0.01634            -0.173138  \n",
      "4      -0.049867  -0.221056        -0.01634            -0.173138  \n"
     ]
    }
   ],
   "source": [
    "print(\"\\nOriginal Data (first 5 rows):\")\n",
    "print(df[numeric_cols].head())\n",
    "\n",
    "print(\"\\nAfter Min-Max Scaling (first 5 rows):\")\n",
    "print(df_minmax[numeric_cols].head())\n",
    "\n",
    "print(\"\\nAfter Standardization (first 5 rows):\")\n",
    "print(df_standard[numeric_cols].head())\n"
   ]
  },
  {
   "cell_type": "code",
   "execution_count": 11,
   "id": "40bfc998-1bfc-406d-b62e-9d03386f2e75",
   "metadata": {},
   "outputs": [
    {
     "data": {
      "image/png": "[encoded data removed]",
      "text/plain": [
       "<Figure size 800x600 with 1 Axes>"
      ]
     },
     "metadata": {},
     "output_type": "display_data"
    }
   ],
   "source": [
    "feature = \"DEP_TIME\"\n",
    "\n",
    "plt.figure(figsize=(8, 6))\n",
    "plt.boxplot([df[feature], df_minmax[feature]], \n",
    "            labels=[\"Original\", \"Min-Max\"])\n",
    "plt.title(f\"Boxplot of {feature} (Original vs Min-Max)\")\n",
    "plt.ylabel(\"Minutes\")\n",
    "plt.show()"
   ]
  },
  {
   "cell_type": "code",
   "execution_count": 25,
   "id": "8ebbd168-247c-47b4-bf86-64d931c3631d",
   "metadata": {},
   "outputs": [
    {
     "name": "stdout",
     "output_type": "stream",
     "text": [
      "C:\\Users\\egsag\\Downloads\\Outlier_removal\\new\n"
     ]
    }
   ],
   "source": [
    "import os\n",
    "print(os.getcwd())"
   ]
  },
  {
   "cell_type": "code",
   "execution_count": null,
   "id": "355812de-dcb5-497a-ab33-a8f3e6d0452b",
   "metadata": {},
   "outputs": [],
   "source": []
  }
 ],
 "metadata": {
  "kernelspec": {
   "display_name": "Python 3 (ipykernel)",
   "language": "python",
   "name": "python3"
  },
  "language_info": {
   "codemirror_mode": {
    "name": "ipython",
    "version": 3
   },
   "file_extension": ".py",
   "mimetype": "text/x-python",
   "name": "python",
   "nbconvert_exporter": "python",
   "pygments_lexer": "ipython3",
   "version": "3.9.13"
  }
 },
 "nbformat": 4,
 "nbformat_minor": 5
}
