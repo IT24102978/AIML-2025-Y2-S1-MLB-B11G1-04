{
 "cells": [
  {
   "cell_type": "code",
   "execution_count": 1,
   "id": "6149fbc7-162a-4b4c-8175-e68fe872cac8",
   "metadata": {},
   "outputs": [],
   "source": [
    "import pandas as pd\n",
    "import numpy as np\n",
    "import matplotlib.pyplot as plt\n",
    "from sklearn.preprocessing import StandardScaler, MinMaxScaler\n",
    "import seaborn as sns\n",
    "%matplotlib inline \n",
    "sns.set(color_codes=True)"
   ]
  },
  {
   "cell_type": "code",
   "execution_count": 2,
   "id": "526e1884-5a25-4872-acbb-1c98665329fe",
   "metadata": {},
   "outputs": [],
   "source": [
    "df = pd.read_csv(\"Outlier_removal.csv\")"
   ]
  },
  {
   "cell_type": "code",
   "execution_count": 4,
   "id": "fbed69b5-3a61-4f9f-88fa-30336087a571",
   "metadata": {},
   "outputs": [
    {
     "name": "stdout",
     "output_type": "stream",
     "text": [
      "Numeric columns: Index(['OP_CARRIER_FL_NUM', 'DEP_TIME', 'DEP_DELAY', 'TAXI_OUT', 'WHEELS_OFF',\n",
      "       'WHEELS_ON', 'TAXI_IN', 'ARR_TIME', 'ARR_DELAY', 'AIR_TIME', 'DISTANCE',\n",
      "       'CARRIER_DELAY', 'WEATHER_DELAY', 'NAS_DELAY', 'SECURITY_DELAY',\n",
      "       'LATE_AIRCRAFT_DELAY', 'YEAR', 'MONTH', 'DAY_OF_WEEK'],\n",
      "      dtype='object')\n"
     ]
    }
   ],
   "source": [
    "numeric_cols = df.select_dtypes(include='number').columns\n",
    "print(\"Numeric columns:\", numeric_cols)\n"
   ]
  },
  {
   "cell_type": "code",
   "execution_count": 5,
   "id": "d707267e-901c-4fb1-bd19-94bc8a739e56",
   "metadata": {},
   "outputs": [],
   "source": [
    "df_minmax = df.copy()\n",
    "df_standard = df.copy()"
   ]
  },
  {
   "cell_type": "code",
   "execution_count": 6,
   "id": "6057b551-0ba2-46d4-93ed-f9963a36717f",
   "metadata": {},
   "outputs": [],
   "source": [
    "minmax = MinMaxScaler()\n",
    "df_minmax[numeric_cols] = minmax.fit_transform(df[numeric_cols])\n"
   ]
  },
  {
   "cell_type": "code",
   "execution_count": 8,
   "id": "8cf2afb2-f496-4488-a61a-c9de999bf799",
   "metadata": {},
   "outputs": [],
   "source": [
    "standard = StandardScaler()\n",
    "df_standard[numeric_cols] = standard.fit_transform(df[numeric_cols])\n"
   ]
  },
  {
   "cell_type": "code",
   "execution_count": 9,
   "id": "90750a81-3a46-4505-b932-d719d09acd27",
   "metadata": {},
   "outputs": [],
   "source": [
    "df_minmax.to_csv(\"Normalization_MinMax.csv\", index=False)\n",
    "df_standard.to_csv(\"Normalization_Standard.csv\", index=False)\n"
   ]
  },
  {
   "cell_type": "code",
   "execution_count": 11,
   "id": "5e15890d-8a5e-4e83-9d0e-f277e6a27802",
   "metadata": {},
   "outputs": [
    {
     "name": "stdout",
     "output_type": "stream",
     "text": [
      "\n",
      "Original Data (first 5 rows):\n",
      "   OP_CARRIER_FL_NUM  DEP_TIME  DEP_DELAY  TAXI_OUT  WHEELS_OFF  WHEELS_ON  \\\n",
      "0               3280     601.0        1.0      22.0       623.0      714.0   \n",
      "1               3281    1359.0       -5.0      15.0      1414.0     1629.0   \n",
      "2               3282    1215.0       -5.0      18.0      1233.0     1323.0   \n",
      "3               3283    1521.0       -6.0      14.0      1535.0     1618.0   \n",
      "4               3284    1847.0      -15.0      18.0      1905.0     1935.0   \n",
      "\n",
      "   TAXI_IN  ARR_TIME  ARR_DELAY  AIR_TIME  DISTANCE  CARRIER_DELAY  \\\n",
      "0      8.0     722.0       -1.0      51.0     300.0            0.0   \n",
      "1      4.0    1633.0      -36.0      75.0     596.0            0.0   \n",
      "2      6.0    1329.0      -16.0      50.0     229.0            0.0   \n",
      "3      7.0    1625.0      -14.0      43.0     223.0            0.0   \n",
      "4      5.0    1940.0      -25.0      90.0     579.0            0.0   \n",
      "\n",
      "   WEATHER_DELAY  NAS_DELAY  SECURITY_DELAY  LATE_AIRCRAFT_DELAY  YEAR  MONTH  \\\n",
      "0            0.0        0.0             0.0                  0.0  2019      1   \n",
      "1            0.0        0.0             0.0                  0.0  2019      1   \n",
      "2            0.0        0.0             0.0                  0.0  2019      1   \n",
      "3            0.0        0.0             0.0                  0.0  2019      1   \n",
      "4            0.0        0.0             0.0                  0.0  2019      1   \n",
      "\n",
      "   DAY_OF_WEEK  \n",
      "0            1  \n",
      "1            1  \n",
      "2            1  \n",
      "3            1  \n",
      "4            1  \n",
      "\n",
      "After Min-Max Scaling (first 5 rows):\n",
      "   OP_CARRIER_FL_NUM  DEP_TIME  DEP_DELAY  TAXI_OUT  WHEELS_OFF  WHEELS_ON  \\\n",
      "0           0.414591  0.250104   0.500000   0.65625    0.259275   0.297207   \n",
      "1           0.414717  0.566069   0.375000   0.43750    0.588995   0.678616   \n",
      "2           0.414844  0.506044   0.375000   0.53125    0.513547   0.551063   \n",
      "3           0.414970  0.633597   0.354167   0.40625    0.639433   0.674031   \n",
      "4           0.415097  0.769487   0.166667   0.53125    0.793664   0.806169   \n",
      "\n",
      "    TAXI_IN  ARR_TIME  ARR_DELAY  AIR_TIME  DISTANCE  CARRIER_DELAY  \\\n",
      "0  0.466667  0.300542   0.758065  0.177165  0.134635            0.0   \n",
      "1  0.200000  0.680283   0.193548  0.271654  0.282783            0.0   \n",
      "2  0.333333  0.553564   0.516129  0.173228  0.099099            0.0   \n",
      "3  0.400000  0.676949   0.548387  0.145669  0.096096            0.0   \n",
      "4  0.266667  0.808253   0.370968  0.330709  0.274274            0.0   \n",
      "\n",
      "   WEATHER_DELAY  NAS_DELAY  SECURITY_DELAY  LATE_AIRCRAFT_DELAY  YEAR  MONTH  \\\n",
      "0            0.0        0.0             0.0                  0.0   0.0    0.0   \n",
      "1            0.0        0.0             0.0                  0.0   0.0    0.0   \n",
      "2            0.0        0.0             0.0                  0.0   0.0    0.0   \n",
      "3            0.0        0.0             0.0                  0.0   0.0    0.0   \n",
      "4            0.0        0.0             0.0                  0.0   0.0    0.0   \n",
      "\n",
      "   DAY_OF_WEEK  \n",
      "0     0.166667  \n",
      "1     0.166667  \n",
      "2     0.166667  \n",
      "3     0.166667  \n",
      "4     0.166667  \n",
      "\n",
      "After Standardization (first 5 rows):\n",
      "   OP_CARRIER_FL_NUM  DEP_TIME  DEP_DELAY  TAXI_OUT  WHEELS_OFF  WHEELS_ON  \\\n",
      "0           0.373930 -1.394631   0.444710  1.174244   -1.398482  -1.437534   \n",
      "1           0.374488  0.144913  -0.440159 -0.040074    0.209062   0.376150   \n",
      "2           0.375046 -0.147560  -0.440159  0.480348   -0.158783  -0.230393   \n",
      "3           0.375605  0.473945  -0.587638 -0.213548    0.454970   0.354347   \n",
      "4           0.376163  1.136071  -1.914942  0.480348    1.206918   0.982694   \n",
      "\n",
      "    TAXI_IN  ARR_TIME  ARR_DELAY  AIR_TIME  DISTANCE  CARRIER_DELAY  \\\n",
      "0  0.471039 -1.425242   0.884201 -0.917058 -0.913066            0.0   \n",
      "1 -0.774261  0.371588  -2.456080 -0.441661 -0.215472            0.0   \n",
      "2 -0.151611 -0.228013  -0.547348 -0.936866 -1.080395            0.0   \n",
      "3  0.159714  0.355810  -0.356475 -1.075523 -1.094535            0.0   \n",
      "4 -0.462936  0.977107  -1.406277 -0.144538 -0.255537            0.0   \n",
      "\n",
      "   WEATHER_DELAY  NAS_DELAY  SECURITY_DELAY  LATE_AIRCRAFT_DELAY  YEAR  \\\n",
      "0            0.0        0.0             0.0                  0.0   0.0   \n",
      "1            0.0        0.0             0.0                  0.0   0.0   \n",
      "2            0.0        0.0             0.0                  0.0   0.0   \n",
      "3            0.0        0.0             0.0                  0.0   0.0   \n",
      "4            0.0        0.0             0.0                  0.0   0.0   \n",
      "\n",
      "      MONTH  DAY_OF_WEEK  \n",
      "0 -1.656228    -0.971959  \n",
      "1 -1.656228    -0.971959  \n",
      "2 -1.656228    -0.971959  \n",
      "3 -1.656228    -0.971959  \n",
      "4 -1.656228    -0.971959  \n"
     ]
    }
   ],
   "source": [
    "print(\"\\nOriginal Data (first 5 rows):\")\n",
    "print(df[numeric_cols].head())\n",
    "\n",
    "print(\"\\nAfter Min-Max Scaling (first 5 rows):\")\n",
    "print(df_minmax[numeric_cols].head())\n",
    "\n",
    "print(\"\\nAfter Standardization (first 5 rows):\")\n",
    "print(df_standard[numeric_cols].head())\n"
   ]
  },
  {
   "cell_type": "code",
   "execution_count": 23,
   "id": "40bfc998-1bfc-406d-b62e-9d03386f2e75",
   "metadata": {},
   "outputs": [
    {
     "name": "stderr",
     "output_type": "stream",
     "text": [
      "C:\\Users\\egsag\\AppData\\Local\\Temp\\ipykernel_9364\\3925183566.py:4: MatplotlibDeprecationWarning: The 'labels' parameter of boxplot() has been renamed 'tick_labels' since Matplotlib 3.9; support for the old name will be dropped in 3.11.\n",
      "  plt.boxplot([df[feature], df_minmax[feature]],\n"
     ]
    },
    {
     "data": {
      "image/png": "[encoded data removed]",
      "text/plain": [
       "<Figure size 800x600 with 1 Axes>"
      ]
     },
     "metadata": {},
     "output_type": "display_data"
    }
   ],
   "source": [
    "feature = \"TAXI_OUT\"\n",
    "\n",
    "plt.figure(figsize=(8, 6))\n",
    "plt.boxplot([df[feature], df_minmax[feature]], \n",
    "            labels=[\"Original\", \"Min-Max\"])\n",
    "plt.title(f\"Boxplot of {feature} (Original vs Min-Max)\")\n",
    "plt.ylabel(\"Minutes\")\n",
    "plt.show()"
   ]
  },
  {
   "cell_type": "code",
   "execution_count": 25,
   "id": "8ebbd168-247c-47b4-bf86-64d931c3631d",
   "metadata": {},
   "outputs": [
    {
     "name": "stdout",
     "output_type": "stream",
     "text": [
      "C:\\Users\\egsag\\Downloads\\Outlier_removal\\new\n"
     ]
    }
   ],
   "source": [
    "import os\n",
    "print(os.getcwd())"
   ]
  },
  {
   "cell_type": "code",
   "execution_count": null,
   "id": "355812de-dcb5-497a-ab33-a8f3e6d0452b",
   "metadata": {},
   "outputs": [],
   "source": []
  }
 ],
 "metadata": {
  "kernelspec": {
   "display_name": "Python 3 (ipykernel)",
   "language": "python",
   "name": "python3"
  },
  "language_info": {
   "codemirror_mode": {
    "name": "ipython",
    "version": 3
   },
   "file_extension": ".py",
   "mimetype": "text/x-python",
   "name": "python",
   "nbconvert_exporter": "python",
   "pygments_lexer": "ipython3",
   "version": "3.13.5"
  }
 },
 "nbformat": 4,
 "nbformat_minor": 5
}
