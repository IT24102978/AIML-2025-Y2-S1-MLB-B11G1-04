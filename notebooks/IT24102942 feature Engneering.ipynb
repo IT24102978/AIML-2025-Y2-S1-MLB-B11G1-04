{
 "cells": [
  {
   "cell_type": "code",
   "execution_count": 1,
   "id": "963d853c-4599-480a-968c-c7c150b328b7",
   "metadata": {},
   "outputs": [],
   "source": [
    "import pandas as pd\n",
    "import matplotlib.pyplot as plt\n",
    "import seaborn as sns"
   ]
  },
  {
   "cell_type": "code",
   "execution_count": 2,
   "id": "7cf8e590-877e-4f38-88bd-8fb154dc11dd",
   "metadata": {},
   "outputs": [],
   "source": [
    "df = pd.read_csv(\"scaled_features.csv\")"
   ]
  },
  {
   "cell_type": "code",
   "execution_count": 5,
   "id": "a49721be-7d86-49bc-ad2a-52915e229676",
   "metadata": {},
   "outputs": [
    {
     "data": {
      "text/html": [
       "<div>\n",
       "<style scoped>\n",
       "    .dataframe tbody tr th:only-of-type {\n",
       "        vertical-align: middle;\n",
       "    }\n",
       "\n",
       "    .dataframe tbody tr th {\n",
       "        vertical-align: top;\n",
       "    }\n",
       "\n",
       "    .dataframe thead th {\n",
       "        text-align: right;\n",
       "    }\n",
       "</style>\n",
       "<table border=\"1\" class=\"dataframe\">\n",
       "  <thead>\n",
       "    <tr style=\"text-align: right;\">\n",
       "      <th></th>\n",
       "      <th>Unnamed: 0</th>\n",
       "      <th>OP_CARRIER_FL_NUM_z</th>\n",
       "      <th>DEP_TIME_z</th>\n",
       "      <th>DEP_DELAY_z</th>\n",
       "      <th>TAXI_OUT_z</th>\n",
       "      <th>WHEELS_OFF_z</th>\n",
       "      <th>WHEELS_ON_z</th>\n",
       "      <th>TAXI_IN_z</th>\n",
       "      <th>ARR_TIME_z</th>\n",
       "      <th>ARR_DELAY_z</th>\n",
       "      <th>...</th>\n",
       "      <th>OP_UNIQUE_CARRIER_OH_z</th>\n",
       "      <th>OP_UNIQUE_CARRIER_OO_z</th>\n",
       "      <th>OP_UNIQUE_CARRIER_UA_z</th>\n",
       "      <th>OP_UNIQUE_CARRIER_WN_z</th>\n",
       "      <th>OP_UNIQUE_CARRIER_YV_z</th>\n",
       "      <th>OP_UNIQUE_CARRIER_YX_z</th>\n",
       "      <th>IS_DELAYED_ARR_z</th>\n",
       "      <th>IS_DELAYED_DEP_z</th>\n",
       "      <th>IS_WEEKEND_z</th>\n",
       "      <th>TOTAL_DELAY_CAUSES_z</th>\n",
       "    </tr>\n",
       "  </thead>\n",
       "  <tbody>\n",
       "    <tr>\n",
       "      <th>0</th>\n",
       "      <td>5776123</td>\n",
       "      <td>-0.446192</td>\n",
       "      <td>-0.162374</td>\n",
       "      <td>3.092152</td>\n",
       "      <td>-0.452036</td>\n",
       "      <td>-0.186083</td>\n",
       "      <td>0.387339</td>\n",
       "      <td>-0.463477</td>\n",
       "      <td>0.383734</td>\n",
       "      <td>2.688507</td>\n",
       "      <td>...</td>\n",
       "      <td>-0.200095</td>\n",
       "      <td>-0.356082</td>\n",
       "      <td>-0.298024</td>\n",
       "      <td>2.083878</td>\n",
       "      <td>-0.174762</td>\n",
       "      <td>-0.215010</td>\n",
       "      <td>1.680634</td>\n",
       "      <td>1.660421</td>\n",
       "      <td>-0.601758</td>\n",
       "      <td>3.947942</td>\n",
       "    </tr>\n",
       "    <tr>\n",
       "      <th>1</th>\n",
       "      <td>7266449</td>\n",
       "      <td>-0.679221</td>\n",
       "      <td>0.044572</td>\n",
       "      <td>-0.185569</td>\n",
       "      <td>-0.215183</td>\n",
       "      <td>0.020785</td>\n",
       "      <td>0.095831</td>\n",
       "      <td>-0.285011</td>\n",
       "      <td>0.092302</td>\n",
       "      <td>0.013821</td>\n",
       "      <td>...</td>\n",
       "      <td>-0.200095</td>\n",
       "      <td>-0.356082</td>\n",
       "      <td>-0.298024</td>\n",
       "      <td>2.083878</td>\n",
       "      <td>-0.174762</td>\n",
       "      <td>-0.215010</td>\n",
       "      <td>-0.595014</td>\n",
       "      <td>-0.602257</td>\n",
       "      <td>-0.601758</td>\n",
       "      <td>-0.304137</td>\n",
       "    </tr>\n",
       "    <tr>\n",
       "      <th>2</th>\n",
       "      <td>1600847</td>\n",
       "      <td>2.104869</td>\n",
       "      <td>0.231230</td>\n",
       "      <td>-0.083140</td>\n",
       "      <td>-0.688890</td>\n",
       "      <td>0.203316</td>\n",
       "      <td>0.142786</td>\n",
       "      <td>0.071920</td>\n",
       "      <td>0.146703</td>\n",
       "      <td>-0.053047</td>\n",
       "      <td>...</td>\n",
       "      <td>-0.200095</td>\n",
       "      <td>-0.356082</td>\n",
       "      <td>-0.298024</td>\n",
       "      <td>-0.479875</td>\n",
       "      <td>5.722061</td>\n",
       "      <td>-0.215010</td>\n",
       "      <td>-0.595014</td>\n",
       "      <td>-0.602257</td>\n",
       "      <td>1.661796</td>\n",
       "      <td>-0.304137</td>\n",
       "    </tr>\n",
       "    <tr>\n",
       "      <th>3</th>\n",
       "      <td>3534403</td>\n",
       "      <td>0.108508</td>\n",
       "      <td>0.486870</td>\n",
       "      <td>-0.083140</td>\n",
       "      <td>-0.925744</td>\n",
       "      <td>0.454803</td>\n",
       "      <td>0.518420</td>\n",
       "      <td>0.071920</td>\n",
       "      <td>0.519735</td>\n",
       "      <td>-0.922320</td>\n",
       "      <td>...</td>\n",
       "      <td>-0.200095</td>\n",
       "      <td>-0.356082</td>\n",
       "      <td>-0.298024</td>\n",
       "      <td>-0.479875</td>\n",
       "      <td>-0.174762</td>\n",
       "      <td>-0.215010</td>\n",
       "      <td>-0.595014</td>\n",
       "      <td>-0.602257</td>\n",
       "      <td>-0.601758</td>\n",
       "      <td>-0.304137</td>\n",
       "    </tr>\n",
       "    <tr>\n",
       "      <th>4</th>\n",
       "      <td>2528066</td>\n",
       "      <td>1.036724</td>\n",
       "      <td>-0.312512</td>\n",
       "      <td>-0.697713</td>\n",
       "      <td>-0.807317</td>\n",
       "      <td>-0.261124</td>\n",
       "      <td>-0.246544</td>\n",
       "      <td>0.071920</td>\n",
       "      <td>-0.239930</td>\n",
       "      <td>-1.524124</td>\n",
       "      <td>...</td>\n",
       "      <td>-0.200095</td>\n",
       "      <td>-0.356082</td>\n",
       "      <td>-0.298024</td>\n",
       "      <td>-0.479875</td>\n",
       "      <td>-0.174762</td>\n",
       "      <td>4.650942</td>\n",
       "      <td>-0.595014</td>\n",
       "      <td>-0.602257</td>\n",
       "      <td>-0.601758</td>\n",
       "      <td>-0.304137</td>\n",
       "    </tr>\n",
       "  </tbody>\n",
       "</table>\n",
       "<p>5 rows × 40 columns</p>\n",
       "</div>"
      ],
      "text/plain": [
       "   Unnamed: 0  OP_CARRIER_FL_NUM_z  DEP_TIME_z  DEP_DELAY_z  TAXI_OUT_z  \\\n",
       "0     5776123            -0.446192   -0.162374     3.092152   -0.452036   \n",
       "1     7266449            -0.679221    0.044572    -0.185569   -0.215183   \n",
       "2     1600847             2.104869    0.231230    -0.083140   -0.688890   \n",
       "3     3534403             0.108508    0.486870    -0.083140   -0.925744   \n",
       "4     2528066             1.036724   -0.312512    -0.697713   -0.807317   \n",
       "\n",
       "   WHEELS_OFF_z  WHEELS_ON_z  TAXI_IN_z  ARR_TIME_z  ARR_DELAY_z  ...  \\\n",
       "0     -0.186083     0.387339  -0.463477    0.383734     2.688507  ...   \n",
       "1      0.020785     0.095831  -0.285011    0.092302     0.013821  ...   \n",
       "2      0.203316     0.142786   0.071920    0.146703    -0.053047  ...   \n",
       "3      0.454803     0.518420   0.071920    0.519735    -0.922320  ...   \n",
       "4     -0.261124    -0.246544   0.071920   -0.239930    -1.524124  ...   \n",
       "\n",
       "   OP_UNIQUE_CARRIER_OH_z  OP_UNIQUE_CARRIER_OO_z  OP_UNIQUE_CARRIER_UA_z  \\\n",
       "0               -0.200095               -0.356082               -0.298024   \n",
       "1               -0.200095               -0.356082               -0.298024   \n",
       "2               -0.200095               -0.356082               -0.298024   \n",
       "3               -0.200095               -0.356082               -0.298024   \n",
       "4               -0.200095               -0.356082               -0.298024   \n",
       "\n",
       "   OP_UNIQUE_CARRIER_WN_z  OP_UNIQUE_CARRIER_YV_z  OP_UNIQUE_CARRIER_YX_z  \\\n",
       "0                2.083878               -0.174762               -0.215010   \n",
       "1                2.083878               -0.174762               -0.215010   \n",
       "2               -0.479875                5.722061               -0.215010   \n",
       "3               -0.479875               -0.174762               -0.215010   \n",
       "4               -0.479875               -0.174762                4.650942   \n",
       "\n",
       "   IS_DELAYED_ARR_z  IS_DELAYED_DEP_z  IS_WEEKEND_z  TOTAL_DELAY_CAUSES_z  \n",
       "0          1.680634          1.660421     -0.601758              3.947942  \n",
       "1         -0.595014         -0.602257     -0.601758             -0.304137  \n",
       "2         -0.595014         -0.602257      1.661796             -0.304137  \n",
       "3         -0.595014         -0.602257     -0.601758             -0.304137  \n",
       "4         -0.595014         -0.602257     -0.601758             -0.304137  \n",
       "\n",
       "[5 rows x 40 columns]"
      ]
     },
     "execution_count": 5,
     "metadata": {},
     "output_type": "execute_result"
    }
   ],
   "source": [
    "df.head()"
   ]
  },
  {
   "cell_type": "code",
   "execution_count": 8,
   "id": "82477943-960f-4b1d-b728-1a6eb13a28a1",
   "metadata": {},
   "outputs": [],
   "source": [
    "def categorize_delay(row):\n",
    "    if row['TOTAL_DELAY_CAUSES_z'] == 0:\n",
    "        return 'No Delay'\n",
    "    elif row['TOTAL_DELAY_CAUSES_z'] == 1:\n",
    "        return 'Single Cause Delay'\n",
    "    elif row['TOTAL_DELAY_CAUSES_z'] > 1:\n",
    "        return 'Multiple Causes Delay'\n",
    "    else:\n",
    "        return 'Unknown'\n"
   ]
  },
  {
   "cell_type": "code",
   "execution_count": 10,
   "id": "687a203b-e77f-42e6-b302-3c5c6e10973d",
   "metadata": {},
   "outputs": [],
   "source": [
    "df['DELAY_CATEGORY'] = df.apply(categorize_delay, axis=1)"
   ]
  },
  {
   "cell_type": "code",
   "execution_count": 11,
   "id": "f97e9d48-8efc-494c-8a8e-e1dac11dc14f",
   "metadata": {},
   "outputs": [
    {
     "data": {
      "text/html": [
       "<div>\n",
       "<style scoped>\n",
       "    .dataframe tbody tr th:only-of-type {\n",
       "        vertical-align: middle;\n",
       "    }\n",
       "\n",
       "    .dataframe tbody tr th {\n",
       "        vertical-align: top;\n",
       "    }\n",
       "\n",
       "    .dataframe thead th {\n",
       "        text-align: right;\n",
       "    }\n",
       "</style>\n",
       "<table border=\"1\" class=\"dataframe\">\n",
       "  <thead>\n",
       "    <tr style=\"text-align: right;\">\n",
       "      <th></th>\n",
       "      <th>TOTAL_DELAY_CAUSES_z</th>\n",
       "      <th>DELAY_CATEGORY</th>\n",
       "    </tr>\n",
       "  </thead>\n",
       "  <tbody>\n",
       "    <tr>\n",
       "      <th>0</th>\n",
       "      <td>3.947942</td>\n",
       "      <td>Multiple Causes Delay</td>\n",
       "    </tr>\n",
       "    <tr>\n",
       "      <th>1</th>\n",
       "      <td>-0.304137</td>\n",
       "      <td>Unknown</td>\n",
       "    </tr>\n",
       "    <tr>\n",
       "      <th>2</th>\n",
       "      <td>-0.304137</td>\n",
       "      <td>Unknown</td>\n",
       "    </tr>\n",
       "    <tr>\n",
       "      <th>3</th>\n",
       "      <td>-0.304137</td>\n",
       "      <td>Unknown</td>\n",
       "    </tr>\n",
       "    <tr>\n",
       "      <th>4</th>\n",
       "      <td>-0.304137</td>\n",
       "      <td>Unknown</td>\n",
       "    </tr>\n",
       "  </tbody>\n",
       "</table>\n",
       "</div>"
      ],
      "text/plain": [
       "   TOTAL_DELAY_CAUSES_z         DELAY_CATEGORY\n",
       "0              3.947942  Multiple Causes Delay\n",
       "1             -0.304137                Unknown\n",
       "2             -0.304137                Unknown\n",
       "3             -0.304137                Unknown\n",
       "4             -0.304137                Unknown"
      ]
     },
     "execution_count": 11,
     "metadata": {},
     "output_type": "execute_result"
    }
   ],
   "source": [
    "df[['TOTAL_DELAY_CAUSES_z', 'DELAY_CATEGORY']].head()\n"
   ]
  },
  {
   "cell_type": "code",
   "execution_count": 21,
   "id": "cd1345e0-732e-4c10-aed3-9a16fd429026",
   "metadata": {},
   "outputs": [
    {
     "name": "stdout",
     "output_type": "stream",
     "text": [
      "             DEP_DELAY_z  ARR_DELAY_z  TAXI_OUT_z  TAXI_IN_z\n",
      "DEP_DELAY_z     1.000000     0.619122    0.002042  -0.065005\n",
      "ARR_DELAY_z     0.619122     1.000000    0.396094   0.183575\n",
      "TAXI_OUT_z      0.002042     0.396094    1.000000   0.003669\n",
      "TAXI_IN_z      -0.065005     0.183575    0.003669   1.000000\n"
     ]
    }
   ],
   "source": [
    "print(df[delay_cols].corr())\n"
   ]
  },
  {
   "cell_type": "code",
   "execution_count": 12,
   "id": "e97018e7-1c7b-4f79-8451-56e18cdc255d",
   "metadata": {},
   "outputs": [
    {
     "data": {
      "text/plain": [
       "DELAY_CATEGORY\n",
       "Unknown                  271477\n",
       "Multiple Causes Delay     28523\n",
       "Name: count, dtype: int64"
      ]
     },
     "execution_count": 12,
     "metadata": {},
     "output_type": "execute_result"
    }
   ],
   "source": [
    "df['DELAY_CATEGORY'].value_counts()\n"
   ]
  },
  {
   "cell_type": "code",
   "execution_count": 13,
   "id": "abd85f9c-ea9e-4326-b840-3ed09a09dacf",
   "metadata": {},
   "outputs": [
    {
     "data": {
      "image/png": "[encoded data removed]",
      "text/plain": [
       "<Figure size 640x480 with 1 Axes>"
      ]
     },
     "metadata": {},
     "output_type": "display_data"
    }
   ],
   "source": [
    "sns.countplot(x='DELAY_CATEGORY', data=df)\n",
    "plt.title('Flight Delay Categories')\n",
    "plt.xlabel('Category')\n",
    "plt.ylabel('Count')\n",
    "plt.xticks(rotation=45)\n",
    "plt.show()\n"
   ]
  },
  {
   "cell_type": "code",
   "execution_count": 19,
   "id": "7f5633cb-a5bb-49e8-830a-06ab37ee22dd",
   "metadata": {},
   "outputs": [
    {
     "name": "stdout",
     "output_type": "stream",
     "text": [
      "              DEP_DELAY_z  ARR_DELAY_z  TAXI_OUT_z  TAXI_IN_z\n",
      "IS_WEEKEND_z                                                 \n",
      "-0.601758        0.005341     0.016889    0.020172  -0.001438\n",
      " 1.661796       -0.014751    -0.046639   -0.055706   0.003972\n"
     ]
    }
   ],
   "source": [
    "print(df.groupby('IS_WEEKEND_z')[delay_cols].mean())\n"
   ]
  },
  {
   "cell_type": "code",
   "execution_count": 14,
   "id": "744caca6-25f3-4881-bb18-1da71ec2363b",
   "metadata": {},
   "outputs": [
    {
     "data": {
      "image/png": "[encoded data removed]",
      "text/plain": [
       "<Figure size 1000x600 with 1 Axes>"
      ]
     },
     "metadata": {},
     "output_type": "display_data"
    }
   ],
   "source": [
    "delay_cols = ['DEP_DELAY_z', 'ARR_DELAY_z', 'TAXI_OUT_z', 'TAXI_IN_z']\n",
    "\n",
    "plt.figure(figsize=(10, 6))\n",
    "sns.boxplot(data=df[delay_cols], palette='Set2')\n",
    "plt.title('Boxplot of Delay Features')\n",
    "plt.xticks(rotation=45)\n",
    "plt.show()\n"
   ]
  },
  {
   "cell_type": "code",
   "execution_count": 16,
   "id": "59fec988-6780-4039-85ad-7e89a4c18594",
   "metadata": {},
   "outputs": [
    {
     "data": {
      "image/png": "[encoded data removed]",
      "text/plain": [
       "<Figure size 700x700 with 1 Axes>"
      ]
     },
     "metadata": {},
     "output_type": "display_data"
    }
   ],
   "source": [
    "delay_counts = df['DELAY_CATEGORY'].value_counts()\n",
    "plt.figure(figsize=(7, 7))\n",
    "plt.pie(delay_counts, labels=delay_counts.index, autopct='%1.1f%%', startangle=90, colors=plt.cm.Pastel1.colors)\n",
    "plt.title('Distribution of Flight Delay Categories')\n",
    "plt.axis('equal')  # Ensures the pie is a circle\n",
    "plt.show()"
   ]
  },
  {
   "cell_type": "code",
   "execution_count": 17,
   "id": "b2b92ab5-ed7f-4730-b9fd-bf680498b5b4",
   "metadata": {},
   "outputs": [
    {
     "name": "stdout",
     "output_type": "stream",
     "text": [
      "✅ File saved as updated_flight_delays.csv\n"
     ]
    }
   ],
   "source": [
    "output_file = \"updated_flight_delays.csv\"\n",
    "df.to_csv(output_file, index=False)\n",
    "\n",
    "print(f\"✅ File saved as {output_file}\")"
   ]
  },
  {
   "cell_type": "code",
   "execution_count": 18,
   "id": "39de5fb3-4169-48ad-8671-c33ef8eb52ec",
   "metadata": {},
   "outputs": [
    {
     "name": "stdout",
     "output_type": "stream",
     "text": [
      "   Unnamed: 0  OP_CARRIER_FL_NUM_z  DEP_TIME_z  DEP_DELAY_z  TAXI_OUT_z  \\\n",
      "0     5776123            -0.446192   -0.162374     3.092152   -0.452036   \n",
      "1     7266449            -0.679221    0.044572    -0.185569   -0.215183   \n",
      "2     1600847             2.104869    0.231230    -0.083140   -0.688890   \n",
      "3     3534403             0.108508    0.486870    -0.083140   -0.925744   \n",
      "4     2528066             1.036724   -0.312512    -0.697713   -0.807317   \n",
      "\n",
      "   WHEELS_OFF_z  WHEELS_ON_z  TAXI_IN_z  ARR_TIME_z  ARR_DELAY_z  ...  \\\n",
      "0     -0.186083     0.387339  -0.463477    0.383734     2.688507  ...   \n",
      "1      0.020785     0.095831  -0.285011    0.092302     0.013821  ...   \n",
      "2      0.203316     0.142786   0.071920    0.146703    -0.053047  ...   \n",
      "3      0.454803     0.518420   0.071920    0.519735    -0.922320  ...   \n",
      "4     -0.261124    -0.246544   0.071920   -0.239930    -1.524124  ...   \n",
      "\n",
      "   OP_UNIQUE_CARRIER_OO_z  OP_UNIQUE_CARRIER_UA_z  OP_UNIQUE_CARRIER_WN_z  \\\n",
      "0               -0.356082               -0.298024                2.083878   \n",
      "1               -0.356082               -0.298024                2.083878   \n",
      "2               -0.356082               -0.298024               -0.479875   \n",
      "3               -0.356082               -0.298024               -0.479875   \n",
      "4               -0.356082               -0.298024               -0.479875   \n",
      "\n",
      "   OP_UNIQUE_CARRIER_YV_z  OP_UNIQUE_CARRIER_YX_z  IS_DELAYED_ARR_z  \\\n",
      "0               -0.174762               -0.215010          1.680634   \n",
      "1               -0.174762               -0.215010         -0.595014   \n",
      "2                5.722061               -0.215010         -0.595014   \n",
      "3               -0.174762               -0.215010         -0.595014   \n",
      "4               -0.174762                4.650942         -0.595014   \n",
      "\n",
      "   IS_DELAYED_DEP_z  IS_WEEKEND_z  TOTAL_DELAY_CAUSES_z         DELAY_CATEGORY  \n",
      "0          1.660421     -0.601758              3.947942  Multiple Causes Delay  \n",
      "1         -0.602257     -0.601758             -0.304137                Unknown  \n",
      "2         -0.602257      1.661796             -0.304137                Unknown  \n",
      "3         -0.602257     -0.601758             -0.304137                Unknown  \n",
      "4         -0.602257     -0.601758             -0.304137                Unknown  \n",
      "\n",
      "[5 rows x 41 columns]\n",
      "        DEP_DELAY_z   ARR_DELAY_z    TAXI_OUT_z     TAXI_IN_z\n",
      "count  3.000000e+05  3.000000e+05  3.000000e+05  3.000000e+05\n",
      "mean   1.196867e-10  2.651000e-10  3.939440e-09 -1.310200e-10\n",
      "std    1.000002e+00  1.000002e+00  1.000002e+00  1.000002e+00\n",
      "min   -3.668147e+00 -3.998209e+00 -1.873158e+00 -1.177340e+00\n",
      "25%   -5.952839e-01 -6.548510e-01 -6.888901e-01 -6.419426e-01\n",
      "50%   -2.879976e-01 -1.199138e-01 -2.151828e-01 -2.850114e-01\n",
      "75%    1.217175e-01  4.818906e-01  3.769515e-01  2.503855e-01\n",
      "max    4.014010e+00  3.892116e+00  1.091694e+01  2.345092e+01\n",
      "DEP_DELAY_z    0\n",
      "ARR_DELAY_z    0\n",
      "TAXI_OUT_z     0\n",
      "TAXI_IN_z      0\n",
      "dtype: int64\n"
     ]
    }
   ],
   "source": [
    "print(df.head())\n",
    "print(df[delay_cols].describe())\n",
    "print(df[delay_cols].isnull().sum())\n"
   ]
  },
  {
   "cell_type": "code",
   "execution_count": null,
   "id": "97bc58fe-29b9-4cfa-8d85-2c7e48d6257b",
   "metadata": {},
   "outputs": [],
   "source": []
  }
 ],
 "metadata": {
  "kernelspec": {
   "display_name": "Python 3 (ipykernel)",
   "language": "python",
   "name": "python3"
  },
  "language_info": {
   "codemirror_mode": {
    "name": "ipython",
    "version": 3
   },
   "file_extension": ".py",
   "mimetype": "text/x-python",
   "name": "python",
   "nbconvert_exporter": "python",
   "pygments_lexer": "ipython3",
   "version": "3.13.7"
  }
 },
 "nbformat": 4,
 "nbformat_minor": 5
}
