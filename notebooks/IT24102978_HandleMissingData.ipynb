{
 "cells": [
  {
   "cell_type": "code",
   "execution_count": 10,
   "id": "b76830c3-8f50-4b00-99a2-8c55dc617be2",
   "metadata": {},
   "outputs": [
    {
     "name": "stdout",
     "output_type": "stream",
     "text": [
      "Shape BEFORE: (7422037, 21)\n",
      "Missing (top):\n",
      "Unnamed: 20            7422037\n",
      "LATE_AIRCRAFT_DELAY    6032784\n",
      "SECURITY_DELAY         6032784\n",
      "NAS_DELAY              6032784\n",
      "WEATHER_DELAY          6032784\n",
      "CARRIER_DELAY          6032784\n",
      "AIR_TIME                153805\n",
      "ARR_DELAY               153805\n",
      "WHEELS_ON               137647\n",
      "TAXI_IN                 137647\n",
      "dtype: int64\n"
     ]
    }
   ],
   "source": [
    "import os\n",
    "import numpy as np\n",
    "import pandas as pd\n",
    "import matplotlib.pyplot as plt\n",
    "\n",
    "# Load raw dataset\n",
    "DATA_PATH = \"C:\\\\Users\\\\Chandupa Weerakkody\\\\Documents\\\\AIML_LivePROJECT\\\\2019.csv\"\n",
    "df = pd.read_csv(DATA_PATH)\n",
    "\n",
    "print(\"Shape BEFORE:\", df.shape)\n",
    "print(\"Missing (top):\")\n",
    "print(df.isna().sum().sort_values(ascending=False).head(10))"
   ]
  },
  {
   "cell_type": "code",
   "execution_count": 11,
   "id": "cff2d056-2916-44a3-a65b-e4e49f449543",
   "metadata": {},
   "outputs": [],
   "source": [
    "# Drop fully empty columns\n",
    "df = df.dropna(axis=1, how=\"all\")\n",
    "\n",
    "# Parse date\n",
    "if \"FL_DATE\" in df.columns:\n",
    "    df[\"FL_DATE\"] = pd.to_datetime(df[\"FL_DATE\"], errors=\"coerce\")"
   ]
  },
  {
   "cell_type": "code",
   "execution_count": 12,
   "id": "f202cf6a-f52c-4905-a07b-0b58e53a9609",
   "metadata": {},
   "outputs": [],
   "source": [
    "# Handle known delay-cause NaNs as 0\n",
    "cause_cols = [\"CARRIER_DELAY\",\"WEATHER_DELAY\",\"NAS_DELAY\",\"SECURITY_DELAY\",\"LATE_AIRCRAFT_DELAY\"]\n",
    "present_cause = [c for c in cause_cols if c in df.columns]\n",
    "if present_cause:\n",
    "    df[present_cause] = df[present_cause].fillna(0)"
   ]
  },
  {
   "cell_type": "code",
   "execution_count": 13,
   "id": "72ab2c25-c7c3-4a63-a774-9d512c1959ed",
   "metadata": {},
   "outputs": [],
   "source": [
    "# Impute the rest\n",
    "num_cols = df.select_dtypes(include=\"number\").columns\n",
    "cat_cols = df.select_dtypes(include=\"object\").columns\n",
    "\n",
    "# numeric → median\n",
    "df[num_cols] = df[num_cols].fillna(df[num_cols].median(numeric_only=True))\n",
    "\n",
    "# categorical → mode (most frequent)\n",
    "for c in cat_cols:\n",
    "    if df[c].isna().any():\n",
    "        m = df[c].mode(dropna=True)\n",
    "        if not m.empty:\n",
    "            df[c] = df[c].fillna(m.iloc[0])\n"
   ]
  },
  {
   "cell_type": "code",
   "execution_count": 18,
   "id": "e16b5a52-c0b7-45f8-8ee6-5420b07976ba",
   "metadata": {},
   "outputs": [
    {
     "data": {
      "image/png": "[encoded data removed]",
      "text/plain": [
       "<Figure size 600x500 with 1 Axes>"
      ]
     },
     "metadata": {},
     "output_type": "display_data"
    }
   ],
   "source": [
    "# Boxplot of DEP_DELAY (post-clean)\n",
    "if \"DEP_DELAY\" in df.columns:\n",
    "    plt.figure(figsize=(6, 5))\n",
    "    plt.boxplot(df[\"DEP_DELAY\"].dropna())\n",
    "    plt.title(\"DEP_DELAY Boxplot (after missing-data handling)\")\n",
    "    plt.ylabel(\"Minutes\")\n",
    "    plt.tight_layout()\n",
    "    plt.show()"
   ]
  },
  {
   "cell_type": "code",
   "execution_count": 20,
   "id": "baec6280-d63b-4b0d-9f66-552c187c4b75",
   "metadata": {},
   "outputs": [
    {
     "name": "stdout",
     "output_type": "stream",
     "text": [
      "\n",
      "Missing AFTER (top):\n",
      "FL_DATE              0\n",
      "OP_UNIQUE_CARRIER    0\n",
      "SECURITY_DELAY       0\n",
      "NAS_DELAY            0\n",
      "WEATHER_DELAY        0\n",
      "CARRIER_DELAY        0\n",
      "DISTANCE             0\n",
      "AIR_TIME             0\n",
      "ARR_DELAY            0\n",
      "ARR_TIME             0\n",
      "dtype: int64\n",
      "Shape AFTER: (7422037, 20)\n"
     ]
    }
   ],
   "source": [
    "#Quick check\n",
    "print(\"\\nMissing AFTER (top):\")\n",
    "print(df.isna().sum().sort_values(ascending=False).head(10))\n",
    "print(\"Shape AFTER:\", df.shape)"
   ]
  },
  {
   "cell_type": "code",
   "execution_count": 22,
   "id": "b1966ca3-97aa-4b02-87de-77d7c3abc90e",
   "metadata": {},
   "outputs": [
    {
     "name": "stdout",
     "output_type": "stream",
     "text": [
      "Saved: C:\\Users\\Chandupa Weerakkody\\Documents\\AIML_LivePROJECT\\output\\after_missing.csv\n"
     ]
    }
   ],
   "source": [
    "# Saving cleaned dataset for the next member to clean\n",
    "out_path = \"C:\\\\Users\\\\Chandupa Weerakkody\\\\Documents\\\\AIML_LivePROJECT\\\\output\\\\after_missing.csv\"\n",
    "df.to_csv(out_path, index=False)\n",
    "print(f\"Saved: {out_path}\")"
   ]
  },
  {
   "cell_type": "code",
   "execution_count": null,
   "id": "7c0b93ed-4565-4006-82c4-984227c2cdd6",
   "metadata": {},
   "outputs": [],
   "source": []
  }
 ],
 "metadata": {
  "kernelspec": {
   "display_name": "Python 3 (ipykernel)",
   "language": "python",
   "name": "python3"
  },
  "language_info": {
   "codemirror_mode": {
    "name": "ipython",
    "version": 3
   },
   "file_extension": ".py",
   "mimetype": "text/x-python",
   "name": "python",
   "nbconvert_exporter": "python",
   "pygments_lexer": "ipython3",
   "version": "3.12.7"
  }
 },
 "nbformat": 4,
 "nbformat_minor": 5
}
